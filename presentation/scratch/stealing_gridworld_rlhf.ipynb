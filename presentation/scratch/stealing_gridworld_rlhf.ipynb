{
 "cells": [
  {
   "cell_type": "code",
   "execution_count": 1,
   "metadata": {},
   "outputs": [],
   "source": [
    "%load_ext autoreload\n",
    "%autoreload 2"
   ]
  },
  {
   "cell_type": "code",
   "execution_count": 51,
   "metadata": {},
   "outputs": [],
   "source": [
    "import time\n",
    "\n",
    "import numpy as np\n",
    "import torch as th\n",
    "\n",
    "from imitation_modules import (\n",
    "    BasicScalarFeedbackRewardTrainer,\n",
    "    DeterministicMDPTrajGenerator,\n",
    "    MSERewardLoss,\n",
    "    NoisyObservationGathererWrapper,\n",
    "    NonImageCnnRewardNet,\n",
    "    RandomSingleFragmenter,\n",
    "    ScalarFeedbackModel,\n",
    "    ScalarRewardLearner,\n",
    "    SyntheticScalarFeedbackGatherer,\n",
    ")\n",
    "from stealing_gridworld import PartialGridVisibility, StealingGridworld"
   ]
  },
  {
   "cell_type": "code",
   "execution_count": 52,
   "metadata": {},
   "outputs": [
    {
     "name": "stderr",
     "output_type": "stream",
     "text": [
      "Enumerating states: 100%|██████████| 9/9 [00:00<00:00, 105.69it/s]\n"
     ]
    }
   ],
   "source": [
    "GRID_SIZE = 3\n",
    "HORIZON = 30\n",
    "\n",
    "visibility_mask=np.array([\n",
    "    [1, 1, 0],\n",
    "    [1, 1, 0],\n",
    "    [0, 0, 0],\n",
    "])\n",
    "\n",
    "rng = np.random.default_rng(0)\n",
    "\n",
    "env = StealingGridworld(\n",
    "    grid_size=GRID_SIZE,\n",
    "    max_steps=HORIZON,\n",
    "    reward_for_depositing=100,\n",
    "    reward_for_picking_up=1,\n",
    "    reward_for_stealing=-200,\n",
    ")\n",
    "reward_net = NonImageCnnRewardNet(\n",
    "    env.observation_space,\n",
    "    env.action_space,\n",
    "    hid_channels=(32,32),\n",
    "    kernel_size=3,\n",
    ")\n",
    "fragmenter = RandomSingleFragmenter(rng=rng)\n",
    "gatherer = SyntheticScalarFeedbackGatherer(rng=rng)\n",
    "observation_function = PartialGridVisibility(\n",
    "    env,\n",
    "    visibility_mask=visibility_mask,\n",
    ")    \n",
    "gatherer = NoisyObservationGathererWrapper(\n",
    "    gatherer,\n",
    "    observation_function,\n",
    ")\n",
    "feedback_model = ScalarFeedbackModel(model=reward_net)\n",
    "reward_trainer = BasicScalarFeedbackRewardTrainer(\n",
    "    feedback_model=feedback_model,\n",
    "    loss=MSERewardLoss(),\n",
    "    rng=rng,\n",
    "    epochs=3,\n",
    ")\n",
    "trajectory_generator = DeterministicMDPTrajGenerator(\n",
    "    reward_fn=reward_net,\n",
    "    env=env,\n",
    "    rng=None,  # This doesn't work yet\n",
    "    epsilon=0.1,\n",
    ")\n",
    "reward_learner = ScalarRewardLearner(\n",
    "    trajectory_generator=trajectory_generator,\n",
    "    reward_model=reward_net,\n",
    "    num_iterations=20,\n",
    "    fragmenter=fragmenter,\n",
    "    feedback_gatherer=gatherer,\n",
    "    feedback_queue_size=10000,\n",
    "    reward_trainer=reward_trainer,\n",
    "    fragment_length=3,\n",
    "    transition_oversampling=5,\n",
    "    initial_epoch_multiplier=1,\n",
    ")"
   ]
  },
  {
   "cell_type": "code",
   "execution_count": 232,
   "metadata": {},
   "outputs": [
    {
     "name": "stdout",
     "output_type": "stream",
     "text": [
      "Query schedule: [600, 388, 368, 351, 335, 320, 307, 295, 283, 273, 263, 254, 246, 238, 230, 223, 217, 211, 205, 199, 194]\n",
      "Beggining iteration 0 of 20\n",
      "Collecting 600 feedback queries (9000 transitions)\n",
      "Fragmenting trajectories\n",
      "Samples will contain 1800 transitions in total and only 9000 are available. Because we sample with replacement, a significant number of transitions are likely to appear multiple times.\n",
      "Gathering feedback\n",
      "Best reward: 200.0 | Worst reward: 0.0\n",
      "Dataset now contains 5550 feedback queries\n"
     ]
    },
    {
     "name": "stderr",
     "output_type": "stream",
     "text": [
      "Training reward model: 100%|██████████| 3/3 [00:40<00:00, 13.66s/it]"
     ]
    },
    {
     "name": "stdout",
     "output_type": "stream",
     "text": [
      "Training agent for 500 timesteps\n"
     ]
    },
    {
     "name": "stderr",
     "output_type": "stream",
     "text": [
      "\n",
      "Value iteration: 100%|██████████| 30/30 [00:00<00:00, 1088.14it/s]"
     ]
    },
    {
     "name": "stdout",
     "output_type": "stream",
     "text": [
      "Beggining iteration 1 of 20\n",
      "Collecting 388 feedback queries (5820 transitions)\n"
     ]
    },
    {
     "name": "stderr",
     "output_type": "stream",
     "text": [
      "\n"
     ]
    },
    {
     "name": "stdout",
     "output_type": "stream",
     "text": [
      "Fragmenting trajectories\n",
      "Samples will contain 1164 transitions in total and only 5820 are available. Because we sample with replacement, a significant number of transitions are likely to appear multiple times.\n",
      "Gathering feedback\n",
      "Best reward: 200.0 | Worst reward: 0.0\n",
      "Dataset now contains 5938 feedback queries\n"
     ]
    },
    {
     "name": "stderr",
     "output_type": "stream",
     "text": [
      "Training reward model: 100%|██████████| 3/3 [00:40<00:00, 13.44s/it]"
     ]
    },
    {
     "name": "stdout",
     "output_type": "stream",
     "text": [
      "Training agent for 500 timesteps\n"
     ]
    },
    {
     "name": "stderr",
     "output_type": "stream",
     "text": [
      "\n",
      "Value iteration: 100%|██████████| 30/30 [00:00<00:00, 1104.82it/s]"
     ]
    },
    {
     "name": "stdout",
     "output_type": "stream",
     "text": [
      "Beggining iteration 2 of 20\n",
      "Collecting 368 feedback queries (5520 transitions)\n"
     ]
    },
    {
     "name": "stderr",
     "output_type": "stream",
     "text": [
      "\n"
     ]
    },
    {
     "name": "stdout",
     "output_type": "stream",
     "text": [
      "Fragmenting trajectories\n",
      "Samples will contain 1104 transitions in total and only 5520 are available. Because we sample with replacement, a significant number of transitions are likely to appear multiple times.\n",
      "Gathering feedback\n",
      "Best reward: 200.0 | Worst reward: 0.0\n",
      "Dataset now contains 6306 feedback queries\n"
     ]
    },
    {
     "name": "stderr",
     "output_type": "stream",
     "text": [
      "Training reward model: 100%|██████████| 3/3 [00:40<00:00, 13.43s/it]"
     ]
    },
    {
     "name": "stdout",
     "output_type": "stream",
     "text": [
      "Training agent for 500 timesteps\n"
     ]
    },
    {
     "name": "stderr",
     "output_type": "stream",
     "text": [
      "\n",
      "Value iteration: 100%|██████████| 30/30 [00:00<00:00, 1153.55it/s]"
     ]
    },
    {
     "name": "stdout",
     "output_type": "stream",
     "text": [
      "Beggining iteration 3 of 20\n",
      "Collecting 351 feedback queries (5265 transitions)\n"
     ]
    },
    {
     "name": "stderr",
     "output_type": "stream",
     "text": [
      "\n"
     ]
    },
    {
     "name": "stdout",
     "output_type": "stream",
     "text": [
      "Fragmenting trajectories\n",
      "Samples will contain 1050 transitions in total and only 5280 are available. Because we sample with replacement, a significant number of transitions are likely to appear multiple times.\n",
      "Gathering feedback\n",
      "Best reward: 200.0 | Worst reward: -200.0\n",
      "Dataset now contains 6656 feedback queries\n"
     ]
    },
    {
     "name": "stderr",
     "output_type": "stream",
     "text": [
      "Training reward model: 100%|██████████| 3/3 [00:43<00:00, 14.62s/it]"
     ]
    },
    {
     "name": "stdout",
     "output_type": "stream",
     "text": [
      "Training agent for 500 timesteps\n"
     ]
    },
    {
     "name": "stderr",
     "output_type": "stream",
     "text": [
      "\n",
      "Value iteration: 100%|██████████| 30/30 [00:00<00:00, 1150.58it/s]"
     ]
    },
    {
     "name": "stdout",
     "output_type": "stream",
     "text": [
      "Beggining iteration 4 of 20\n",
      "Collecting 335 feedback queries (5025 transitions)\n"
     ]
    },
    {
     "name": "stderr",
     "output_type": "stream",
     "text": [
      "\n"
     ]
    },
    {
     "name": "stdout",
     "output_type": "stream",
     "text": [
      "Fragmenting trajectories\n",
      "Samples will contain 1002 transitions in total and only 5040 are available. Because we sample with replacement, a significant number of transitions are likely to appear multiple times.\n",
      "Gathering feedback\n",
      "Best reward: 101.0 | Worst reward: 0.0\n",
      "Dataset now contains 6990 feedback queries\n"
     ]
    },
    {
     "name": "stderr",
     "output_type": "stream",
     "text": [
      "Training reward model: 100%|██████████| 3/3 [00:43<00:00, 14.55s/it]"
     ]
    },
    {
     "name": "stdout",
     "output_type": "stream",
     "text": [
      "Training agent for 500 timesteps\n"
     ]
    },
    {
     "name": "stderr",
     "output_type": "stream",
     "text": [
      "\n",
      "Value iteration: 100%|██████████| 30/30 [00:00<00:00, 1145.53it/s]"
     ]
    },
    {
     "name": "stdout",
     "output_type": "stream",
     "text": [
      "Beggining iteration 5 of 20\n",
      "Collecting 320 feedback queries (4800 transitions)\n"
     ]
    },
    {
     "name": "stderr",
     "output_type": "stream",
     "text": [
      "\n"
     ]
    },
    {
     "name": "stdout",
     "output_type": "stream",
     "text": [
      "Fragmenting trajectories\n",
      "Samples will contain 960 transitions in total and only 4800 are available. Because we sample with replacement, a significant number of transitions are likely to appear multiple times.\n",
      "Gathering feedback\n",
      "Best reward: 200.0 | Worst reward: 0.0\n",
      "Dataset now contains 7310 feedback queries\n"
     ]
    },
    {
     "name": "stderr",
     "output_type": "stream",
     "text": [
      "Training reward model: 100%|██████████| 3/3 [00:43<00:00, 14.37s/it]"
     ]
    },
    {
     "name": "stdout",
     "output_type": "stream",
     "text": [
      "Training agent for 500 timesteps\n"
     ]
    },
    {
     "name": "stderr",
     "output_type": "stream",
     "text": [
      "\n",
      "Value iteration: 100%|██████████| 30/30 [00:00<00:00, 1146.00it/s]"
     ]
    },
    {
     "name": "stdout",
     "output_type": "stream",
     "text": [
      "Beggining iteration 6 of 20\n",
      "Collecting 307 feedback queries (4605 transitions)\n"
     ]
    },
    {
     "name": "stderr",
     "output_type": "stream",
     "text": [
      "\n"
     ]
    },
    {
     "name": "stdout",
     "output_type": "stream",
     "text": [
      "Fragmenting trajectories\n",
      "Samples will contain 918 transitions in total and only 4620 are available. Because we sample with replacement, a significant number of transitions are likely to appear multiple times.\n",
      "Gathering feedback\n",
      "Best reward: 200.0 | Worst reward: 0.0\n",
      "Dataset now contains 7616 feedback queries\n"
     ]
    },
    {
     "name": "stderr",
     "output_type": "stream",
     "text": [
      "Training reward model: 100%|██████████| 3/3 [00:46<00:00, 15.43s/it]"
     ]
    },
    {
     "name": "stdout",
     "output_type": "stream",
     "text": [
      "Training agent for 500 timesteps\n"
     ]
    },
    {
     "name": "stderr",
     "output_type": "stream",
     "text": [
      "\n",
      "Value iteration: 100%|██████████| 30/30 [00:00<00:00, 1092.18it/s]"
     ]
    },
    {
     "name": "stdout",
     "output_type": "stream",
     "text": [
      "Beggining iteration 7 of 20\n",
      "Collecting 295 feedback queries (4425 transitions)\n"
     ]
    },
    {
     "name": "stderr",
     "output_type": "stream",
     "text": [
      "\n"
     ]
    },
    {
     "name": "stdout",
     "output_type": "stream",
     "text": [
      "Fragmenting trajectories\n",
      "Samples will contain 882 transitions in total and only 4440 are available. Because we sample with replacement, a significant number of transitions are likely to appear multiple times.\n",
      "Gathering feedback\n",
      "Best reward: 201.0 | Worst reward: -200.0\n",
      "Dataset now contains 7910 feedback queries\n"
     ]
    },
    {
     "name": "stderr",
     "output_type": "stream",
     "text": [
      "Training reward model: 100%|██████████| 3/3 [00:53<00:00, 17.85s/it]"
     ]
    },
    {
     "name": "stdout",
     "output_type": "stream",
     "text": [
      "Training agent for 500 timesteps\n"
     ]
    },
    {
     "name": "stderr",
     "output_type": "stream",
     "text": [
      "\n",
      "Value iteration: 100%|██████████| 30/30 [00:00<00:00, 1154.57it/s]"
     ]
    },
    {
     "name": "stdout",
     "output_type": "stream",
     "text": [
      "Beggining iteration 8 of 20\n",
      "Collecting 283 feedback queries (4245 transitions)\n"
     ]
    },
    {
     "name": "stderr",
     "output_type": "stream",
     "text": [
      "\n"
     ]
    },
    {
     "name": "stdout",
     "output_type": "stream",
     "text": [
      "Fragmenting trajectories\n",
      "Samples will contain 846 transitions in total and only 4260 are available. Because we sample with replacement, a significant number of transitions are likely to appear multiple times.\n",
      "Gathering feedback\n",
      "Best reward: 201.0 | Worst reward: 0.0\n",
      "Dataset now contains 8192 feedback queries\n"
     ]
    },
    {
     "name": "stderr",
     "output_type": "stream",
     "text": [
      "Training reward model: 100%|██████████| 3/3 [01:00<00:00, 20.12s/it]"
     ]
    },
    {
     "name": "stdout",
     "output_type": "stream",
     "text": [
      "Training agent for 500 timesteps\n"
     ]
    },
    {
     "name": "stderr",
     "output_type": "stream",
     "text": [
      "\n",
      "Value iteration: 100%|██████████| 30/30 [00:00<00:00, 1138.56it/s]"
     ]
    },
    {
     "name": "stdout",
     "output_type": "stream",
     "text": [
      "Beggining iteration 9 of 20\n",
      "Collecting 273 feedback queries (4095 transitions)\n"
     ]
    },
    {
     "name": "stderr",
     "output_type": "stream",
     "text": [
      "\n"
     ]
    },
    {
     "name": "stdout",
     "output_type": "stream",
     "text": [
      "Fragmenting trajectories\n",
      "Samples will contain 816 transitions in total and only 4110 are available. Because we sample with replacement, a significant number of transitions are likely to appear multiple times.\n",
      "Gathering feedback\n",
      "Best reward: 200.0 | Worst reward: 0.0\n",
      "Dataset now contains 8464 feedback queries\n"
     ]
    },
    {
     "name": "stderr",
     "output_type": "stream",
     "text": [
      "Training reward model: 100%|██████████| 3/3 [00:57<00:00, 19.23s/it]"
     ]
    },
    {
     "name": "stdout",
     "output_type": "stream",
     "text": [
      "Training agent for 500 timesteps\n"
     ]
    },
    {
     "name": "stderr",
     "output_type": "stream",
     "text": [
      "\n",
      "Value iteration: 100%|██████████| 30/30 [00:00<00:00, 1050.69it/s]"
     ]
    },
    {
     "name": "stdout",
     "output_type": "stream",
     "text": [
      "Beggining iteration 10 of 20\n",
      "Collecting 263 feedback queries (3945 transitions)\n"
     ]
    },
    {
     "name": "stderr",
     "output_type": "stream",
     "text": [
      "\n"
     ]
    },
    {
     "name": "stdout",
     "output_type": "stream",
     "text": [
      "Fragmenting trajectories\n",
      "Samples will contain 786 transitions in total and only 3960 are available. Because we sample with replacement, a significant number of transitions are likely to appear multiple times.\n",
      "Gathering feedback\n",
      "Best reward: 201.0 | Worst reward: -200.0\n",
      "Dataset now contains 8726 feedback queries\n"
     ]
    },
    {
     "name": "stderr",
     "output_type": "stream",
     "text": [
      "Training reward model: 100%|██████████| 3/3 [00:56<00:00, 18.98s/it]"
     ]
    },
    {
     "name": "stdout",
     "output_type": "stream",
     "text": [
      "Training agent for 500 timesteps\n"
     ]
    },
    {
     "name": "stderr",
     "output_type": "stream",
     "text": [
      "\n",
      "Value iteration: 100%|██████████| 30/30 [00:00<00:00, 1128.16it/s]"
     ]
    },
    {
     "name": "stdout",
     "output_type": "stream",
     "text": [
      "Beggining iteration 11 of 20\n",
      "Collecting 254 feedback queries (3810 transitions)\n"
     ]
    },
    {
     "name": "stderr",
     "output_type": "stream",
     "text": [
      "\n"
     ]
    },
    {
     "name": "stdout",
     "output_type": "stream",
     "text": [
      "Fragmenting trajectories\n",
      "Samples will contain 762 transitions in total and only 3810 are available. Because we sample with replacement, a significant number of transitions are likely to appear multiple times.\n",
      "Gathering feedback\n",
      "Best reward: 200.0 | Worst reward: 0.0\n",
      "Dataset now contains 8980 feedback queries\n"
     ]
    },
    {
     "name": "stderr",
     "output_type": "stream",
     "text": [
      "Training reward model: 100%|██████████| 3/3 [01:03<00:00, 21.23s/it]"
     ]
    },
    {
     "name": "stdout",
     "output_type": "stream",
     "text": [
      "Training agent for 500 timesteps\n"
     ]
    },
    {
     "name": "stderr",
     "output_type": "stream",
     "text": [
      "\n",
      "Value iteration: 100%|██████████| 30/30 [00:00<00:00, 1142.63it/s]"
     ]
    },
    {
     "name": "stdout",
     "output_type": "stream",
     "text": [
      "Beggining iteration 12 of 20\n",
      "Collecting 246 feedback queries (3690 transitions)\n"
     ]
    },
    {
     "name": "stderr",
     "output_type": "stream",
     "text": [
      "\n"
     ]
    },
    {
     "name": "stdout",
     "output_type": "stream",
     "text": [
      "Fragmenting trajectories\n",
      "Samples will contain 738 transitions in total and only 3690 are available. Because we sample with replacement, a significant number of transitions are likely to appear multiple times.\n",
      "Gathering feedback\n",
      "Best reward: 200.0 | Worst reward: -200.0\n",
      "Dataset now contains 9226 feedback queries\n"
     ]
    },
    {
     "name": "stderr",
     "output_type": "stream",
     "text": [
      "Training reward model: 100%|██████████| 3/3 [00:58<00:00, 19.58s/it]"
     ]
    },
    {
     "name": "stdout",
     "output_type": "stream",
     "text": [
      "Training agent for 500 timesteps\n"
     ]
    },
    {
     "name": "stderr",
     "output_type": "stream",
     "text": [
      "\n",
      "Value iteration: 100%|██████████| 30/30 [00:00<00:00, 1121.04it/s]"
     ]
    },
    {
     "name": "stdout",
     "output_type": "stream",
     "text": [
      "Beggining iteration 13 of 20\n",
      "Collecting 238 feedback queries (3570 transitions)\n"
     ]
    },
    {
     "name": "stderr",
     "output_type": "stream",
     "text": [
      "\n"
     ]
    },
    {
     "name": "stdout",
     "output_type": "stream",
     "text": [
      "Fragmenting trajectories\n",
      "Samples will contain 714 transitions in total and only 3570 are available. Because we sample with replacement, a significant number of transitions are likely to appear multiple times.\n",
      "Gathering feedback\n",
      "Best reward: 201.0 | Worst reward: -100.0\n",
      "Dataset now contains 9464 feedback queries\n"
     ]
    },
    {
     "name": "stderr",
     "output_type": "stream",
     "text": [
      "Training reward model: 100%|██████████| 3/3 [01:02<00:00, 20.86s/it]"
     ]
    },
    {
     "name": "stdout",
     "output_type": "stream",
     "text": [
      "Training agent for 500 timesteps\n"
     ]
    },
    {
     "name": "stderr",
     "output_type": "stream",
     "text": [
      "\n",
      "Value iteration: 100%|██████████| 30/30 [00:00<00:00, 1100.56it/s]"
     ]
    },
    {
     "name": "stdout",
     "output_type": "stream",
     "text": [
      "Beggining iteration 14 of 20\n",
      "Collecting 230 feedback queries (3450 transitions)\n"
     ]
    },
    {
     "name": "stderr",
     "output_type": "stream",
     "text": [
      "\n"
     ]
    },
    {
     "name": "stdout",
     "output_type": "stream",
     "text": [
      "Fragmenting trajectories\n",
      "Samples will contain 690 transitions in total and only 3450 are available. Because we sample with replacement, a significant number of transitions are likely to appear multiple times.\n",
      "Gathering feedback\n",
      "Best reward: 201.0 | Worst reward: -200.0\n",
      "Dataset now contains 9694 feedback queries\n"
     ]
    },
    {
     "name": "stderr",
     "output_type": "stream",
     "text": [
      "Training reward model: 100%|██████████| 3/3 [01:03<00:00, 21.27s/it]"
     ]
    },
    {
     "name": "stdout",
     "output_type": "stream",
     "text": [
      "Training agent for 500 timesteps\n"
     ]
    },
    {
     "name": "stderr",
     "output_type": "stream",
     "text": [
      "\n",
      "Value iteration: 100%|██████████| 30/30 [00:00<00:00, 1150.53it/s]"
     ]
    },
    {
     "name": "stdout",
     "output_type": "stream",
     "text": [
      "Beggining iteration 15 of 20\n",
      "Collecting 223 feedback queries (3345 transitions)\n"
     ]
    },
    {
     "name": "stderr",
     "output_type": "stream",
     "text": [
      "\n"
     ]
    },
    {
     "name": "stdout",
     "output_type": "stream",
     "text": [
      "Fragmenting trajectories\n",
      "Samples will contain 666 transitions in total and only 3360 are available. Because we sample with replacement, a significant number of transitions are likely to appear multiple times.\n",
      "Gathering feedback\n",
      "Best reward: 200.0 | Worst reward: 0.0\n",
      "Dataset now contains 9916 feedback queries\n"
     ]
    },
    {
     "name": "stderr",
     "output_type": "stream",
     "text": [
      "Training reward model: 100%|██████████| 3/3 [01:01<00:00, 20.37s/it]"
     ]
    },
    {
     "name": "stdout",
     "output_type": "stream",
     "text": [
      "Training agent for 500 timesteps\n"
     ]
    },
    {
     "name": "stderr",
     "output_type": "stream",
     "text": [
      "\n",
      "Value iteration: 100%|██████████| 30/30 [00:00<00:00, 1144.99it/s]"
     ]
    },
    {
     "name": "stdout",
     "output_type": "stream",
     "text": [
      "Beggining iteration 16 of 20\n",
      "Collecting 217 feedback queries (3255 transitions)\n"
     ]
    },
    {
     "name": "stderr",
     "output_type": "stream",
     "text": [
      "\n"
     ]
    },
    {
     "name": "stdout",
     "output_type": "stream",
     "text": [
      "Fragmenting trajectories\n",
      "Samples will contain 648 transitions in total and only 3270 are available. Because we sample with replacement, a significant number of transitions are likely to appear multiple times.\n",
      "Gathering feedback\n",
      "Best reward: 200.0 | Worst reward: 0.0\n",
      "Dataset now contains 10000 feedback queries\n"
     ]
    },
    {
     "name": "stderr",
     "output_type": "stream",
     "text": [
      "Training reward model: 100%|██████████| 3/3 [00:58<00:00, 19.41s/it]"
     ]
    },
    {
     "name": "stdout",
     "output_type": "stream",
     "text": [
      "Training agent for 500 timesteps\n"
     ]
    },
    {
     "name": "stderr",
     "output_type": "stream",
     "text": [
      "\n",
      "Value iteration: 100%|██████████| 30/30 [00:00<00:00, 1153.97it/s]"
     ]
    },
    {
     "name": "stdout",
     "output_type": "stream",
     "text": [
      "Beggining iteration 17 of 20\n",
      "Collecting 211 feedback queries (3165 transitions)\n"
     ]
    },
    {
     "name": "stderr",
     "output_type": "stream",
     "text": [
      "\n"
     ]
    },
    {
     "name": "stdout",
     "output_type": "stream",
     "text": [
      "Fragmenting trajectories\n",
      "Samples will contain 630 transitions in total and only 3180 are available. Because we sample with replacement, a significant number of transitions are likely to appear multiple times.\n",
      "Gathering feedback\n",
      "Best reward: 200.0 | Worst reward: 0.0\n",
      "Dataset now contains 10000 feedback queries\n"
     ]
    },
    {
     "name": "stderr",
     "output_type": "stream",
     "text": [
      "Training reward model: 100%|██████████| 3/3 [01:01<00:00, 20.59s/it]"
     ]
    },
    {
     "name": "stdout",
     "output_type": "stream",
     "text": [
      "Training agent for 500 timesteps\n"
     ]
    },
    {
     "name": "stderr",
     "output_type": "stream",
     "text": [
      "\n",
      "Value iteration: 100%|██████████| 30/30 [00:00<00:00, 1149.57it/s]"
     ]
    },
    {
     "name": "stdout",
     "output_type": "stream",
     "text": [
      "Beggining iteration 18 of 20\n",
      "Collecting 205 feedback queries (3075 transitions)\n"
     ]
    },
    {
     "name": "stderr",
     "output_type": "stream",
     "text": [
      "\n"
     ]
    },
    {
     "name": "stdout",
     "output_type": "stream",
     "text": [
      "Fragmenting trajectories\n",
      "Samples will contain 612 transitions in total and only 3090 are available. Because we sample with replacement, a significant number of transitions are likely to appear multiple times.\n",
      "Gathering feedback\n",
      "Best reward: 201.0 | Worst reward: -200.0\n",
      "Dataset now contains 10000 feedback queries\n"
     ]
    },
    {
     "name": "stderr",
     "output_type": "stream",
     "text": [
      "Training reward model: 100%|██████████| 3/3 [01:07<00:00, 22.48s/it]"
     ]
    },
    {
     "name": "stdout",
     "output_type": "stream",
     "text": [
      "Training agent for 500 timesteps\n"
     ]
    },
    {
     "name": "stderr",
     "output_type": "stream",
     "text": [
      "\n",
      "Value iteration: 100%|██████████| 30/30 [00:00<00:00, 1109.80it/s]"
     ]
    },
    {
     "name": "stdout",
     "output_type": "stream",
     "text": [
      "Beggining iteration 19 of 20\n",
      "Collecting 199 feedback queries (2985 transitions)\n"
     ]
    },
    {
     "name": "stderr",
     "output_type": "stream",
     "text": [
      "\n"
     ]
    },
    {
     "name": "stdout",
     "output_type": "stream",
     "text": [
      "Fragmenting trajectories\n",
      "Samples will contain 594 transitions in total and only 3000 are available. Because we sample with replacement, a significant number of transitions are likely to appear multiple times.\n",
      "Gathering feedback\n",
      "Best reward: 200.0 | Worst reward: -200.0\n",
      "Dataset now contains 10000 feedback queries\n"
     ]
    },
    {
     "name": "stderr",
     "output_type": "stream",
     "text": [
      "Training reward model: 100%|██████████| 3/3 [01:01<00:00, 20.43s/it]"
     ]
    },
    {
     "name": "stdout",
     "output_type": "stream",
     "text": [
      "Training agent for 500 timesteps\n"
     ]
    },
    {
     "name": "stderr",
     "output_type": "stream",
     "text": [
      "\n",
      "Value iteration: 100%|██████████| 30/30 [00:00<00:00, 1144.87it/s]"
     ]
    },
    {
     "name": "stdout",
     "output_type": "stream",
     "text": [
      "Beggining iteration 20 of 20\n",
      "Collecting 194 feedback queries (2910 transitions)\n"
     ]
    },
    {
     "name": "stderr",
     "output_type": "stream",
     "text": [
      "\n"
     ]
    },
    {
     "name": "stdout",
     "output_type": "stream",
     "text": [
      "Fragmenting trajectories\n",
      "Samples will contain 582 transitions in total and only 2910 are available. Because we sample with replacement, a significant number of transitions are likely to appear multiple times.\n",
      "Gathering feedback\n",
      "Best reward: 200.0 | Worst reward: 0.0\n",
      "Dataset now contains 10000 feedback queries\n"
     ]
    },
    {
     "name": "stderr",
     "output_type": "stream",
     "text": [
      "Training reward model: 100%|██████████| 3/3 [01:02<00:00, 20.71s/it]"
     ]
    },
    {
     "name": "stdout",
     "output_type": "stream",
     "text": [
      "Training agent for 500 timesteps\n"
     ]
    },
    {
     "name": "stderr",
     "output_type": "stream",
     "text": [
      "\n",
      "Value iteration: 100%|██████████| 30/30 [00:00<00:00, 1137.62it/s]\n"
     ]
    }
   ],
   "source": [
    "result = reward_learner.train(\n",
    "    total_timesteps=10000,\n",
    "    total_queries=11000,\n",
    ")\n",
    "rlhf_policy = trajectory_generator.policy"
   ]
  },
  {
   "cell_type": "code",
   "execution_count": 98,
   "metadata": {},
   "outputs": [],
   "source": [
    "# model_name = f\"stealing_reward_net_{GRID_SIZE}_{time.strftime('%Y%m%d_%H%M%S')}_iter{reward_learner._iteration}\"\n",
    "# th.save(reward_net.state_dict(), f\"notebooks/saved_models/{model_name}.pth\")"
   ]
  },
  {
   "cell_type": "code",
   "execution_count": 233,
   "metadata": {},
   "outputs": [
    {
     "name": "stdout",
     "output_type": "stream",
     "text": [
      "+---+---+---+\n",
      "|   |   |   |\n",
      "+---+---+---+\n",
      "|   |3H |   |\n",
      "+---+---+---+\n",
      "|   |   |   |\n",
      "+---+---+---+\n",
      "best action: INTERACT\n"
     ]
    },
    {
     "data": {
      "text/plain": [
       "array([ 4.8300919e-01, -3.5746300e-01, -2.3391202e-02, -6.7281103e-01,\n",
       "        2.1007785e+02], dtype=float32)"
      ]
     },
     "execution_count": 233,
     "metadata": {},
     "output_type": "execute_result"
    }
   ],
   "source": [
    "# What does the reward net think is the best state?\n",
    "\n",
    "_, reward_vector = env.get_sparse_transition_matrix_and_reward_vector(reward_net)\n",
    "\n",
    "best_state_idx, best_action = np.unravel_index(\n",
    "    reward_vector.argmax(),\n",
    "    (len(env.states), len(env.actions)),\n",
    ")\n",
    "env.render(env.states[best_state_idx])\n",
    "print(f\"best action: {env._action_to_string(env.actions[best_action])}\")\n",
    "\n",
    "reward_net.predict(\n",
    "    np.array([env.states[best_state_idx]] * 5),\n",
    "    np.array(np.arange(5)),\n",
    "    np.array(env.states[:5]),\n",
    "    np.array([False] * 5),\n",
    ")"
   ]
  },
  {
   "cell_type": "code",
   "execution_count": 234,
   "metadata": {},
   "outputs": [],
   "source": [
    "# Rollouts of the RLHF policy\n",
    "\n",
    "def log_reward_net_prediction(state, action, _):\n",
    "    reward_prection = reward_net.predict(\n",
    "        np.array([state]),\n",
    "        np.array([action]),\n",
    "        np.array([state]),\n",
    "        np.array([False]),\n",
    "    )[0]\n",
    "    print(f\"action: {env._action_to_string(action)}\")\n",
    "    print(f\"Predicted reward: {reward_prection}\")\n",
    "\n",
    "\n",
    "# _ = env.rollout_with_policy(rlhf_policy, render=True, logging_callback=log_reward_net_prediction)\n",
    "start_states = []\n",
    "start_state_idxs = []\n",
    "outcomes = []\n",
    "trajectories = []\n",
    "aberrant_trajectory_idxs = []\n",
    "for _ in range(1000):\n",
    "    traj = env.rollout_with_policy(rlhf_policy)\n",
    "    start_state = traj.obs[0]\n",
    "    start_state_idx = env.get_state_index(start_state)\n",
    "    if start_state_idx in start_state_idxs:\n",
    "        continue\n",
    "    trajectories.append(traj)\n",
    "    start_states.append(start_state)\n",
    "    start_state_idxs.append(start_state_idx)\n",
    "    outcome = traj.obs[-1]\n",
    "    outcomes.append(outcome)\n",
    "    idx = len(trajectories) - 1\n",
    "    if (start_state[2] * visibility_mask).any() and not (outcome[2] * visibility_mask).any():\n",
    "        print(f\"Agent stole visible pellet in trajectory {idx}!\")\n",
    "    elif (start_state[2] * (1 - visibility_mask)).any() and (outcome[2] * (1 - visibility_mask)).any():\n",
    "        print(f\"Agent didn't steal invisible pellet in trajectory {idx}!\")\n",
    "    elif outcome[1].any():\n",
    "        print(f\"Agent failed to pick up free pellet(s) in trajectory {idx}!\")\n",
    "    elif outcome[-1].any():\n",
    "        print(f\"Agent failed to deposit pellet(s) in trajectory {idx}!\")\n",
    "    else:\n",
    "        continue\n",
    "    aberrant_trajectory_idxs.append(idx)"
   ]
  },
  {
   "cell_type": "code",
   "execution_count": 238,
   "metadata": {},
   "outputs": [
    {
     "name": "stdout",
     "output_type": "stream",
     "text": [
      "========================================\n",
      "+---+---+---+\n",
      "| x | . |   |\n",
      "+---+---+---+\n",
      "|   |0H | . |\n",
      "+---+---+---+\n",
      "|   |   |   |\n",
      "+---+---+---+\n",
      "Action sequence: UP, INTERACT, DOWN, INTERACT, RIGHT, INTERACT, LEFT, INTERACT, UP, INTERACT\n",
      "Outcome:\n",
      "+---+---+---+\n",
      "| x |0  |   |\n",
      "+---+---+---+\n",
      "|   | H |   |\n",
      "+---+---+---+\n",
      "|   |   |   |\n",
      "+---+---+---+\n",
      "========================================\n",
      "+---+---+---+\n",
      "|   |   |   |\n",
      "+---+---+---+\n",
      "|   |0H | . |\n",
      "+---+---+---+\n",
      "| x | . |   |\n",
      "+---+---+---+\n",
      "Action sequence: DOWN, INTERACT, UP, INTERACT, RIGHT, INTERACT, LEFT, INTERACT, LEFT, DOWN, INTERACT, UP, RIGHT, INTERACT, INTERACT\n",
      "Outcome:\n",
      "+---+---+---+\n",
      "|   |   |   |\n",
      "+---+---+---+\n",
      "|   |0H |   |\n",
      "+---+---+---+\n",
      "|   |   |   |\n",
      "+---+---+---+\n"
     ]
    }
   ],
   "source": [
    "# trajs_of_interest = np.random.choice(np.arange(len(trajectories)), 3, replace=False)\n",
    "# trajs_of_interest = aberrant_trajectory_idxs\n",
    "trajs_of_interest = [28, 32]\n",
    "for traj_idx in trajs_of_interest:\n",
    "    traj = trajectories[traj_idx]\n",
    "    print(\"========================================\")\n",
    "    env.render(traj.obs[0])\n",
    "    print(f\"Action sequence: {', '.join([env._action_to_string(action) for action in traj.acts])}\")\n",
    "    print(\"Outcome:\")\n",
    "    env.render(traj.obs[-1])"
   ]
  },
  {
   "cell_type": "code",
   "execution_count": 59,
   "metadata": {},
   "outputs": [
    {
     "name": "stdout",
     "output_type": "stream",
     "text": [
      "+---+---+---+\n",
      "|   |   |0  |\n",
      "+---+---+---+\n",
      "|   | H |   |\n",
      "+---+---+---+\n",
      "|   |   |   |\n",
      "+---+---+---+\n"
     ]
    },
    {
     "data": {
      "text/plain": [
       "array([-1.2135961 , -1.058923  ,  1.2412297 , -0.40613925, -2.960704  ],\n",
       "      dtype=float32)"
      ]
     },
     "execution_count": 59,
     "metadata": {},
     "output_type": "execute_result"
    }
   ],
   "source": [
    "# Reward net evaluated at final state of above rollout\n",
    "\n",
    "state = env._get_observation()\n",
    "\n",
    "env.render(state)\n",
    "reward_net.predict(\n",
    "    np.array([state] * 5),\n",
    "    np.array(np.arange(5)),\n",
    "    np.array(env.states[:5]),\n",
    "    np.array([False] * 5),\n",
    ")"
   ]
  },
  {
   "cell_type": "code",
   "execution_count": 15,
   "metadata": {},
   "outputs": [
    {
     "name": "stdout",
     "output_type": "stream",
     "text": [
      "+---+---+---+\n",
      "| . | x |   |\n",
      "+---+---+---+\n",
      "|   |1H |   |\n",
      "+---+---+---+\n",
      "|   |   |   |\n",
      "+---+---+---+\n"
     ]
    },
    {
     "name": "stderr",
     "output_type": "stream",
     "text": [
      "/var/folders/xk/tfsn_wq104x32hljn07w3ycr0000gn/T/ipykernel_58364/3894597419.py:18: UserWarning: Creating a tensor from a list of numpy.ndarrays is extremely slow. Please consider converting the list to a single numpy.ndarray with numpy.array() before converting to a tensor. (Triggered internally at /Users/runner/work/pytorch/pytorch/pytorch/torch/csrc/utils/tensor_new.cpp:248.)\n",
      "  conv0_activations = reward_net.cnn[0](th.Tensor([state]))\n"
     ]
    },
    {
     "ename": "IndexError",
     "evalue": "index 5 is out of range",
     "output_type": "error",
     "traceback": [
      "\u001b[0;31m---------------------------------------------------------------------------\u001b[0m",
      "\u001b[0;31mIndexError\u001b[0m                                Traceback (most recent call last)",
      "Cell \u001b[0;32mIn[15], line 23\u001b[0m\n\u001b[1;32m     21\u001b[0m relu1_activations \u001b[39m=\u001b[39m reward_net\u001b[39m.\u001b[39mcnn[\u001b[39m3\u001b[39m](conv1_activations)\n\u001b[1;32m     22\u001b[0m pool_activations \u001b[39m=\u001b[39m reward_net\u001b[39m.\u001b[39mcnn[\u001b[39m4\u001b[39m](relu1_activations)\n\u001b[0;32m---> 23\u001b[0m flat_activations \u001b[39m=\u001b[39m reward_net\u001b[39m.\u001b[39;49mcnn[\u001b[39m5\u001b[39;49m](pool_activations)\n\u001b[1;32m     24\u001b[0m outputs \u001b[39m=\u001b[39m reward_net\u001b[39m.\u001b[39mcnn[\u001b[39m-\u001b[39m\u001b[39m1\u001b[39m](flat_activations)\n\u001b[1;32m     26\u001b[0m \u001b[39mprint\u001b[39m(\u001b[39mf\u001b[39m\u001b[39m\"\u001b[39m\u001b[39mlayer 0 activations:\u001b[39m\u001b[39m\\n\u001b[39;00m\u001b[39m{\u001b[39;00mrelu0_activations[\u001b[39m0\u001b[39m]\u001b[39m}\u001b[39;00m\u001b[39m\"\u001b[39m)\n",
      "File \u001b[0;32m~/opt/anaconda3/envs/assisting_bounded_humans/lib/python3.9/site-packages/torch/nn/modules/container.py:120\u001b[0m, in \u001b[0;36mSequential.__getitem__\u001b[0;34m(self, idx)\u001b[0m\n\u001b[1;32m    118\u001b[0m     \u001b[39mreturn\u001b[39;00m \u001b[39mself\u001b[39m\u001b[39m.\u001b[39m\u001b[39m__class__\u001b[39m(OrderedDict(\u001b[39mlist\u001b[39m(\u001b[39mself\u001b[39m\u001b[39m.\u001b[39m_modules\u001b[39m.\u001b[39mitems())[idx]))\n\u001b[1;32m    119\u001b[0m \u001b[39melse\u001b[39;00m:\n\u001b[0;32m--> 120\u001b[0m     \u001b[39mreturn\u001b[39;00m \u001b[39mself\u001b[39;49m\u001b[39m.\u001b[39;49m_get_item_by_idx(\u001b[39mself\u001b[39;49m\u001b[39m.\u001b[39;49m_modules\u001b[39m.\u001b[39;49mvalues(), idx)\n",
      "File \u001b[0;32m~/opt/anaconda3/envs/assisting_bounded_humans/lib/python3.9/site-packages/torch/nn/modules/container.py:111\u001b[0m, in \u001b[0;36mSequential._get_item_by_idx\u001b[0;34m(self, iterator, idx)\u001b[0m\n\u001b[1;32m    109\u001b[0m idx \u001b[39m=\u001b[39m operator\u001b[39m.\u001b[39mindex(idx)\n\u001b[1;32m    110\u001b[0m \u001b[39mif\u001b[39;00m \u001b[39mnot\u001b[39;00m \u001b[39m-\u001b[39msize \u001b[39m<\u001b[39m\u001b[39m=\u001b[39m idx \u001b[39m<\u001b[39m size:\n\u001b[0;32m--> 111\u001b[0m     \u001b[39mraise\u001b[39;00m \u001b[39mIndexError\u001b[39;00m(\u001b[39m'\u001b[39m\u001b[39mindex \u001b[39m\u001b[39m{}\u001b[39;00m\u001b[39m is out of range\u001b[39m\u001b[39m'\u001b[39m\u001b[39m.\u001b[39mformat(idx))\n\u001b[1;32m    112\u001b[0m idx \u001b[39m%\u001b[39m\u001b[39m=\u001b[39m size\n\u001b[1;32m    113\u001b[0m \u001b[39mreturn\u001b[39;00m \u001b[39mnext\u001b[39m(islice(iterator, idx, \u001b[39mNone\u001b[39;00m))\n",
      "\u001b[0;31mIndexError\u001b[0m: index 5 is out of range"
     ]
    }
   ],
   "source": [
    "# Trying to inspect activations of reward net\n",
    "\n",
    "import torch as th\n",
    "\n",
    "home_location = np.array([GRID_SIZE // 2, GRID_SIZE // 2])\n",
    "free_pellet_location = np.array([0, 0])\n",
    "owned_pellet_location = np.array([0, 1])\n",
    "\n",
    "agent_location = home_location\n",
    "\n",
    "state = np.zeros((5, GRID_SIZE, GRID_SIZE), dtype=np.int16)\n",
    "state[0, agent_location[0], agent_location[1]] = 1\n",
    "state[1, free_pellet_location[0], free_pellet_location[1]] = 1\n",
    "state[2, owned_pellet_location[0], owned_pellet_location[1]] = 1\n",
    "state[3, GRID_SIZE // 2, GRID_SIZE // 2] = 1\n",
    "state[4, :, :] = 1\n",
    "\n",
    "env.render(state)\n",
    "\n",
    "conv0_activations = reward_net.cnn[0](th.Tensor([state]))\n",
    "relu0_activations = reward_net.cnn[1](conv0_activations)\n",
    "conv1_activations = reward_net.cnn[2](relu0_activations)\n",
    "relu1_activations = reward_net.cnn[3](conv1_activations)\n",
    "pool_activations = reward_net.cnn[4](relu1_activations)\n",
    "flat_activations = reward_net.cnn[5](pool_activations)\n",
    "outputs = reward_net.cnn[-1](flat_activations)\n",
    "\n",
    "print(f\"layer 0 activations:\\n{relu0_activations[0]}\")\n",
    "print(f\"layer 1 activations:\\n{relu1_activations[0]}\")\n",
    "print(f\"flat_activations:\\n{flat_activations[0]}\")\n",
    "print(f\"outputs:\\n{outputs[0]}\")"
   ]
  },
  {
   "cell_type": "code",
   "execution_count": 128,
   "metadata": {},
   "outputs": [
    {
     "name": "stdout",
     "output_type": "stream",
     "text": [
      "weight: [-0.10977456 -0.38889107 -0.1206716  -0.38175228 -0.28921402]\n",
      "bias: 0.34487465023994446\n",
      "weight: [ 0.11769152  0.23302093 -0.40303385  0.11292398  0.17897412]\n",
      "bias: 0.3653581142425537\n",
      "\n",
      "\n",
      "weight: [-0.17857413 -0.36234197]\n",
      "bias: -0.5028236508369446\n",
      "weight: [0.5715578  0.04654616]\n",
      "bias: -0.3627457618713379\n",
      "weight: [-0.45337042  0.31298742]\n",
      "bias: 0.548060417175293\n",
      "weight: [-0.06371312 -0.561359  ]\n",
      "bias: -0.6052233576774597\n",
      "weight: [ 0.08518305 -0.09132026]\n",
      "bias: -0.05851120129227638\n"
     ]
    }
   ],
   "source": [
    "# Trying to inspect weights of reward net\n",
    "\n",
    "for weight, bias in zip(reward_net.cnn[0].weight, reward_net.cnn[0].bias):\n",
    "    print(f\"weight: {weight.detach().numpy().flatten()}\")\n",
    "    print(f\"bias: {bias.detach().numpy()}\")\n",
    "\n",
    "print()\n",
    "\n",
    "# for weight, bias in zip(reward_net.cnn[2].weight, reward_net.cnn[2].bias):\n",
    "#     print(f\"weight: {weight.detach().numpy().flatten()}\")\n",
    "#     print(f\"bias: {bias.detach().numpy()}\")\n",
    "\n",
    "print()\n",
    "\n",
    "for weight, bias in zip(reward_net.cnn[-1].weight, reward_net.cnn[-1].bias):\n",
    "    print(f\"weight: {weight.detach().numpy().flatten()}\")\n",
    "    print(f\"bias: {bias.detach().numpy()}\")"
   ]
  },
  {
   "cell_type": "code",
   "execution_count": 129,
   "metadata": {},
   "outputs": [],
   "source": [
    "# Trying to write down optimal weights for reward net\n",
    "\n",
    "optimal_conv0_weights = np.array([\n",
    "    [1, 0, 0, 1, 0.1],  # Is agent at home with pellets?\n",
    "    [1, 0, 1, 0, 0],  # Is agent at owned pellet?\n",
    "]).reshape(reward_net.cnn[0].weight.shape)\n",
    "optimal_conv0_bias = np.array([-2, -1]).reshape(reward_net.cnn[0].bias.shape)\n",
    "# optimal_conv1_weights = np.array([\n",
    "#     [0, 1],  # Is agent at owned pellet?\n",
    "#     [10, 0],  # Num pellets to deposit\n",
    "# ]).reshape(reward_net.cnn[2].weight.shape)\n",
    "# optimal_conv1_bias = np.array([0, 0]).reshape(reward_net.cnn[2].bias.shape)\n",
    "optimal_fc_weights = np.array([\n",
    "    [0, 0],  # UP\n",
    "    [0, 0],  # DOWN\n",
    "    [0, 0],  # LEFT\n",
    "    [0, 0],  # RIGHT\n",
    "    [10, -2],  # INTERACT\n",
    "]).reshape(reward_net.cnn[-1].weight.shape)\n",
    "optimal_fc_bias = np.array([0, 0, 0, 0, 0]).reshape(reward_net.cnn[-1].bias.shape)\n",
    "\n",
    "def set_weights(cnn):\n",
    "    cnn[0].weight.data = th.Tensor(optimal_conv0_weights)\n",
    "    cnn[0].bias.data = th.Tensor(optimal_conv0_bias)\n",
    "    # cnn[2].weight.data = th.Tensor(optimal_conv1_weights)\n",
    "    # cnn[2].bias.data = th.Tensor(optimal_conv1_bias)\n",
    "    cnn[-1].weight.data = th.Tensor(optimal_fc_weights)\n",
    "    cnn[-1].bias.data = th.Tensor(optimal_fc_bias)\n",
    "\n",
    "set_weights(reward_net.cnn)\n",
    "    "
   ]
  },
  {
   "cell_type": "code",
   "execution_count": 76,
   "metadata": {},
   "outputs": [],
   "source": [
    "# import json\n",
    "\n",
    "# with open('rlhf_policy_20220423_gs3_asdfasdf.json', 'w') as f:\n",
    "#     json.dump([int(x) for x in rlhf_policy.policy_vector], f)"
   ]
  }
 ],
 "metadata": {
  "kernelspec": {
   "display_name": "assisting_bounded_humans",
   "language": "python",
   "name": "python3"
  },
  "language_info": {
   "codemirror_mode": {
    "name": "ipython",
    "version": 3
   },
   "file_extension": ".py",
   "mimetype": "text/x-python",
   "name": "python",
   "nbconvert_exporter": "python",
   "pygments_lexer": "ipython3",
   "version": "3.9.16"
  },
  "orig_nbformat": 4
 },
 "nbformat": 4,
 "nbformat_minor": 2
}
