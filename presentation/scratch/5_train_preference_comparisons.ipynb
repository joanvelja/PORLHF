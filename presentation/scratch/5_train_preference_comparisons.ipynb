{
 "cells": [
  {
   "cell_type": "markdown",
   "metadata": {},
   "source": [
    "[download this notebook here](https://github.com/HumanCompatibleAI/imitation/blob/master/docs/tutorials/5_train_preference_comparisons.ipynb)\n",
    "# Learning a Reward Function using Preference Comparisons\n",
    "\n",
    "The preference comparisons algorithm learns a reward function by comparing trajectory segments to each other."
   ]
  },
  {
   "cell_type": "markdown",
   "metadata": {},
   "source": [
    "To set up the preference comparisons algorithm, we first need to set up a lot of its internals beforehand:"
   ]
  },
  {
   "cell_type": "code",
   "execution_count": 1,
   "metadata": {},
   "outputs": [
    {
     "name": "stderr",
     "output_type": "stream",
     "text": [
      "/Users/davisfoote/opt/anaconda3/envs/assisting_bounded_humans/lib/python3.9/site-packages/tqdm/auto.py:21: TqdmWarning: IProgress not found. Please update jupyter and ipywidgets. See https://ipywidgets.readthedocs.io/en/stable/user_install.html\n",
      "  from .autonotebook import tqdm as notebook_tqdm\n"
     ]
    }
   ],
   "source": [
    "import random\n",
    "from imitation.algorithms import preference_comparisons\n",
    "from imitation.rewards.reward_nets import BasicRewardNet\n",
    "from imitation.util.networks import RunningNorm\n",
    "from imitation.util.util import make_vec_env\n",
    "from imitation.policies.base import FeedForward32Policy, NormalizeFeaturesExtractor\n",
    "import gym\n",
    "from stable_baselines3 import PPO\n",
    "import numpy as np\n",
    "\n",
    "rng = np.random.default_rng(0)\n",
    "\n",
    "venv = make_vec_env(\"Pendulum-v1\", rng=rng)\n",
    "\n",
    "reward_net = BasicRewardNet(\n",
    "    venv.observation_space, venv.action_space, normalize_input_layer=RunningNorm\n",
    ")\n",
    "\n",
    "fragmenter = preference_comparisons.RandomFragmenter(\n",
    "    warning_threshold=0,\n",
    "    rng=rng,\n",
    ")\n",
    "gatherer = preference_comparisons.SyntheticGatherer(rng=rng)\n",
    "preference_model = preference_comparisons.PreferenceModel(reward_net)\n",
    "reward_trainer = preference_comparisons.BasicRewardTrainer(\n",
    "    preference_model=preference_model,\n",
    "    loss=preference_comparisons.CrossEntropyRewardLoss(),\n",
    "    epochs=3,\n",
    "    rng=rng,\n",
    ")\n",
    "\n",
    "agent = PPO(\n",
    "    policy=FeedForward32Policy,\n",
    "    policy_kwargs=dict(\n",
    "        features_extractor_class=NormalizeFeaturesExtractor,\n",
    "        features_extractor_kwargs=dict(normalize_class=RunningNorm),\n",
    "    ),\n",
    "    env=venv,\n",
    "    seed=0,\n",
    "    n_steps=2048 // venv.num_envs,\n",
    "    batch_size=64,\n",
    "    ent_coef=0.0,\n",
    "    learning_rate=0.0003,\n",
    "    n_epochs=10,\n",
    ")\n",
    "\n",
    "trajectory_generator = preference_comparisons.AgentTrainer(\n",
    "    algorithm=agent,\n",
    "    reward_fn=reward_net,\n",
    "    venv=venv,\n",
    "    exploration_frac=0.0,\n",
    "    rng=rng,\n",
    ")\n",
    "\n",
    "pref_comparisons = preference_comparisons.PreferenceComparisons(\n",
    "    trajectory_generator,\n",
    "    reward_net,\n",
    "    num_iterations=5,\n",
    "    fragmenter=fragmenter,\n",
    "    preference_gatherer=gatherer,\n",
    "    reward_trainer=reward_trainer,\n",
    "    fragment_length=100,\n",
    "    transition_oversampling=1,\n",
    "    initial_comparison_frac=0.1,\n",
    "    allow_variable_horizon=False,\n",
    "    initial_epoch_multiplier=1,\n",
    ")"
   ]
  },
  {
   "cell_type": "markdown",
   "metadata": {},
   "source": [
    "Then we can start training the reward model. Note that we need to specify the total timesteps that the agent should be trained and how many fragment comparisons should be made."
   ]
  },
  {
   "cell_type": "code",
   "execution_count": 2,
   "metadata": {},
   "outputs": [
    {
     "name": "stdout",
     "output_type": "stream",
     "text": [
      "Query schedule: [20, 51, 41, 34, 29, 25]\n",
      "Collecting 40 fragments (4000 transitions)\n",
      "Requested 4000 transitions but only 0 in buffer. Sampling 4000 additional transitions.\n",
      "Creating fragment pairs\n",
      "Gathering preferences\n",
      "Dataset now contains 20 comparisons\n"
     ]
    },
    {
     "name": "stderr",
     "output_type": "stream",
     "text": [
      "Training reward model: 100%|██████████| 3/3 [00:00<00:00, 12.59it/s]"
     ]
    },
    {
     "name": "stdout",
     "output_type": "stream",
     "text": [
      "Training agent for 1000 timesteps\n"
     ]
    },
    {
     "name": "stderr",
     "output_type": "stream",
     "text": [
      "\n"
     ]
    },
    {
     "name": "stdout",
     "output_type": "stream",
     "text": [
      "----------------------------------------------------\n",
      "| raw/                                 |           |\n",
      "|    agent/rollout/ep_len_mean         | 200       |\n",
      "|    agent/rollout/ep_rew_mean         | -1.32e+03 |\n",
      "|    agent/rollout/ep_rew_wrapped_mean | 9.1       |\n",
      "|    agent/time/fps                    | 8500      |\n",
      "|    agent/time/iterations             | 1         |\n",
      "|    agent/time/time_elapsed           | 0         |\n",
      "|    agent/time/total_timesteps        | 2048      |\n",
      "----------------------------------------------------\n",
      "------------------------------------------------------\n",
      "| mean/                                  |           |\n",
      "|    agent/rollout/ep_len_mean           | 200       |\n",
      "|    agent/rollout/ep_rew_mean           | -1.32e+03 |\n",
      "|    agent/rollout/ep_rew_wrapped_mean   | 9.1       |\n",
      "|    agent/time/fps                      | 8.5e+03   |\n",
      "|    agent/time/iterations               | 1         |\n",
      "|    agent/time/time_elapsed             | 0         |\n",
      "|    agent/time/total_timesteps          | 2.05e+03  |\n",
      "|    agent/train/approx_kl               | 0.00466   |\n",
      "|    agent/train/clip_fraction           | 0.0361    |\n",
      "|    agent/train/clip_range              | 0.2       |\n",
      "|    agent/train/entropy_loss            | -1.42     |\n",
      "|    agent/train/explained_variance      | -0.923    |\n",
      "|    agent/train/learning_rate           | 0.0003    |\n",
      "|    agent/train/loss                    | 0.0589    |\n",
      "|    agent/train/n_updates               | 10        |\n",
      "|    agent/train/policy_gradient_loss    | -0.00376  |\n",
      "|    agent/train/std                     | 0.99      |\n",
      "|    agent/train/value_loss              | 0.259     |\n",
      "|    preferences/entropy                 | 0.00589   |\n",
      "|    reward/epoch-0/train/accuracy       | 0.85      |\n",
      "|    reward/epoch-0/train/gt_reward_loss | 0.00125   |\n",
      "|    reward/epoch-0/train/loss           | 0.325     |\n",
      "|    reward/epoch-1/train/accuracy       | 0.85      |\n",
      "|    reward/epoch-1/train/gt_reward_loss | 0.00125   |\n",
      "|    reward/epoch-1/train/loss           | 0.255     |\n",
      "|    reward/epoch-2/train/accuracy       | 0.85      |\n",
      "|    reward/epoch-2/train/gt_reward_loss | 0.00125   |\n",
      "|    reward/epoch-2/train/loss           | 0.219     |\n",
      "| reward/                                |           |\n",
      "|    final/train/accuracy                | 0.85      |\n",
      "|    final/train/gt_reward_loss          | 0.00125   |\n",
      "|    final/train/loss                    | 0.219     |\n",
      "------------------------------------------------------\n",
      "Collecting 102 fragments (10200 transitions)\n",
      "Requested 10200 transitions but only 1600 in buffer. Sampling 8600 additional transitions.\n",
      "Creating fragment pairs\n",
      "Gathering preferences\n",
      "Dataset now contains 71 comparisons\n"
     ]
    },
    {
     "name": "stderr",
     "output_type": "stream",
     "text": [
      "Training reward model: 100%|██████████| 3/3 [00:00<00:00,  6.26it/s]"
     ]
    },
    {
     "name": "stdout",
     "output_type": "stream",
     "text": [
      "Training agent for 1000 timesteps\n"
     ]
    },
    {
     "name": "stderr",
     "output_type": "stream",
     "text": [
      "\n"
     ]
    },
    {
     "name": "stdout",
     "output_type": "stream",
     "text": [
      "-------------------------------------------------------\n",
      "| raw/                                 |              |\n",
      "|    agent/rollout/ep_len_mean         | 200          |\n",
      "|    agent/rollout/ep_rew_mean         | -1.31e+03    |\n",
      "|    agent/rollout/ep_rew_wrapped_mean | 11.6         |\n",
      "|    agent/time/fps                    | 8642         |\n",
      "|    agent/time/iterations             | 1            |\n",
      "|    agent/time/time_elapsed           | 0            |\n",
      "|    agent/time/total_timesteps        | 4096         |\n",
      "|    agent/train/approx_kl             | 0.0046564215 |\n",
      "|    agent/train/clip_fraction         | 0.0361       |\n",
      "|    agent/train/clip_range            | 0.2          |\n",
      "|    agent/train/entropy_loss          | -1.42        |\n",
      "|    agent/train/explained_variance    | -0.923       |\n",
      "|    agent/train/learning_rate         | 0.0003       |\n",
      "|    agent/train/loss                  | 0.0589       |\n",
      "|    agent/train/n_updates             | 10           |\n",
      "|    agent/train/policy_gradient_loss  | -0.00376     |\n",
      "|    agent/train/std                   | 0.99         |\n",
      "|    agent/train/value_loss            | 0.259        |\n",
      "-------------------------------------------------------\n",
      "------------------------------------------------------\n",
      "| mean/                                  |           |\n",
      "|    agent/rollout/ep_len_mean           | 200       |\n",
      "|    agent/rollout/ep_rew_mean           | -1.31e+03 |\n",
      "|    agent/rollout/ep_rew_wrapped_mean   | 11.6      |\n",
      "|    agent/time/fps                      | 8.64e+03  |\n",
      "|    agent/time/iterations               | 1         |\n",
      "|    agent/time/time_elapsed             | 0         |\n",
      "|    agent/time/total_timesteps          | 4.1e+03   |\n",
      "|    agent/train/approx_kl               | 0.00321   |\n",
      "|    agent/train/clip_fraction           | 0.0139    |\n",
      "|    agent/train/clip_range              | 0.2       |\n",
      "|    agent/train/entropy_loss            | -1.41     |\n",
      "|    agent/train/explained_variance      | 0.314     |\n",
      "|    agent/train/learning_rate           | 0.0003    |\n",
      "|    agent/train/loss                    | 0.227     |\n",
      "|    agent/train/n_updates               | 20        |\n",
      "|    agent/train/policy_gradient_loss    | -0.00169  |\n",
      "|    agent/train/std                     | 0.995     |\n",
      "|    agent/train/value_loss              | 0.721     |\n",
      "|    preferences/entropy                 | 0.00889   |\n",
      "|    reward/epoch-0/train/accuracy       | 0.869     |\n",
      "|    reward/epoch-0/train/gt_reward_loss | 0.00187   |\n",
      "|    reward/epoch-0/train/loss           | 0.209     |\n",
      "|    reward/epoch-1/train/accuracy       | 0.917     |\n",
      "|    reward/epoch-1/train/gt_reward_loss | 0.00186   |\n",
      "|    reward/epoch-1/train/loss           | 0.127     |\n",
      "|    reward/epoch-2/train/accuracy       | 0.948     |\n",
      "|    reward/epoch-2/train/gt_reward_loss | 0.00186   |\n",
      "|    reward/epoch-2/train/loss           | 0.108     |\n",
      "| reward/                                |           |\n",
      "|    final/train/accuracy                | 0.948     |\n",
      "|    final/train/gt_reward_loss          | 0.00186   |\n",
      "|    final/train/loss                    | 0.108     |\n",
      "------------------------------------------------------\n",
      "Collecting 82 fragments (8200 transitions)\n",
      "Requested 8200 transitions but only 1600 in buffer. Sampling 6600 additional transitions.\n",
      "Creating fragment pairs\n",
      "Gathering preferences\n",
      "Dataset now contains 112 comparisons\n"
     ]
    },
    {
     "name": "stderr",
     "output_type": "stream",
     "text": [
      "Training reward model: 100%|██████████| 3/3 [00:00<00:00,  4.65it/s]"
     ]
    },
    {
     "name": "stdout",
     "output_type": "stream",
     "text": [
      "Training agent for 1000 timesteps\n"
     ]
    },
    {
     "name": "stderr",
     "output_type": "stream",
     "text": [
      "\n"
     ]
    },
    {
     "name": "stdout",
     "output_type": "stream",
     "text": [
      "-------------------------------------------------------\n",
      "| raw/                                 |              |\n",
      "|    agent/rollout/ep_len_mean         | 200          |\n",
      "|    agent/rollout/ep_rew_mean         | -1.27e+03    |\n",
      "|    agent/rollout/ep_rew_wrapped_mean | 18.2         |\n",
      "|    agent/time/fps                    | 8874         |\n",
      "|    agent/time/iterations             | 1            |\n",
      "|    agent/time/time_elapsed           | 0            |\n",
      "|    agent/time/total_timesteps        | 6144         |\n",
      "|    agent/train/approx_kl             | 0.0032147523 |\n",
      "|    agent/train/clip_fraction         | 0.0139       |\n",
      "|    agent/train/clip_range            | 0.2          |\n",
      "|    agent/train/entropy_loss          | -1.41        |\n",
      "|    agent/train/explained_variance    | 0.314        |\n",
      "|    agent/train/learning_rate         | 0.0003       |\n",
      "|    agent/train/loss                  | 0.227        |\n",
      "|    agent/train/n_updates             | 20           |\n",
      "|    agent/train/policy_gradient_loss  | -0.00169     |\n",
      "|    agent/train/std                   | 0.995        |\n",
      "|    agent/train/value_loss            | 0.721        |\n",
      "-------------------------------------------------------\n",
      "------------------------------------------------------\n",
      "| mean/                                  |           |\n",
      "|    agent/rollout/ep_len_mean           | 200       |\n",
      "|    agent/rollout/ep_rew_mean           | -1.27e+03 |\n",
      "|    agent/rollout/ep_rew_wrapped_mean   | 18.2      |\n",
      "|    agent/time/fps                      | 8.87e+03  |\n",
      "|    agent/time/iterations               | 1         |\n",
      "|    agent/time/time_elapsed             | 0         |\n",
      "|    agent/time/total_timesteps          | 6.14e+03  |\n",
      "|    agent/train/approx_kl               | 0.00227   |\n",
      "|    agent/train/clip_fraction           | 0.00566   |\n",
      "|    agent/train/clip_range              | 0.2       |\n",
      "|    agent/train/entropy_loss            | -1.42     |\n",
      "|    agent/train/explained_variance      | 0.391     |\n",
      "|    agent/train/learning_rate           | 0.0003    |\n",
      "|    agent/train/loss                    | 0.738     |\n",
      "|    agent/train/n_updates               | 30        |\n",
      "|    agent/train/policy_gradient_loss    | -0.00132  |\n",
      "|    agent/train/std                     | 0.998     |\n",
      "|    agent/train/value_loss              | 1.27      |\n",
      "|    preferences/entropy                 | 0.014     |\n",
      "|    reward/epoch-0/train/accuracy       | 0.922     |\n",
      "|    reward/epoch-0/train/gt_reward_loss | 0.012     |\n",
      "|    reward/epoch-0/train/loss           | 0.322     |\n",
      "|    reward/epoch-1/train/accuracy       | 0.922     |\n",
      "|    reward/epoch-1/train/gt_reward_loss | 0.0131    |\n",
      "|    reward/epoch-1/train/loss           | 0.247     |\n",
      "|    reward/epoch-2/train/accuracy       | 0.914     |\n",
      "|    reward/epoch-2/train/gt_reward_loss | 0.0119    |\n",
      "|    reward/epoch-2/train/loss           | 0.178     |\n",
      "| reward/                                |           |\n",
      "|    final/train/accuracy                | 0.914     |\n",
      "|    final/train/gt_reward_loss          | 0.0119    |\n",
      "|    final/train/loss                    | 0.178     |\n",
      "------------------------------------------------------\n",
      "Collecting 68 fragments (6800 transitions)\n",
      "Requested 6800 transitions but only 1600 in buffer. Sampling 5200 additional transitions.\n",
      "Creating fragment pairs\n",
      "Gathering preferences\n",
      "Dataset now contains 146 comparisons\n"
     ]
    },
    {
     "name": "stderr",
     "output_type": "stream",
     "text": [
      "Training reward model: 100%|██████████| 3/3 [00:00<00:00,  3.54it/s]"
     ]
    },
    {
     "name": "stdout",
     "output_type": "stream",
     "text": [
      "Training agent for 1000 timesteps\n"
     ]
    },
    {
     "name": "stderr",
     "output_type": "stream",
     "text": [
      "\n"
     ]
    },
    {
     "name": "stdout",
     "output_type": "stream",
     "text": [
      "-------------------------------------------------------\n",
      "| raw/                                 |              |\n",
      "|    agent/rollout/ep_len_mean         | 200          |\n",
      "|    agent/rollout/ep_rew_mean         | -1.26e+03    |\n",
      "|    agent/rollout/ep_rew_wrapped_mean | 20.8         |\n",
      "|    agent/time/fps                    | 8793         |\n",
      "|    agent/time/iterations             | 1            |\n",
      "|    agent/time/time_elapsed           | 0            |\n",
      "|    agent/time/total_timesteps        | 8192         |\n",
      "|    agent/train/approx_kl             | 0.0022668643 |\n",
      "|    agent/train/clip_fraction         | 0.00566      |\n",
      "|    agent/train/clip_range            | 0.2          |\n",
      "|    agent/train/entropy_loss          | -1.42        |\n",
      "|    agent/train/explained_variance    | 0.391        |\n",
      "|    agent/train/learning_rate         | 0.0003       |\n",
      "|    agent/train/loss                  | 0.738        |\n",
      "|    agent/train/n_updates             | 30           |\n",
      "|    agent/train/policy_gradient_loss  | -0.00132     |\n",
      "|    agent/train/std                   | 0.998        |\n",
      "|    agent/train/value_loss            | 1.27         |\n",
      "-------------------------------------------------------\n",
      "------------------------------------------------------\n",
      "| mean/                                  |           |\n",
      "|    agent/rollout/ep_len_mean           | 200       |\n",
      "|    agent/rollout/ep_rew_mean           | -1.26e+03 |\n",
      "|    agent/rollout/ep_rew_wrapped_mean   | 20.8      |\n",
      "|    agent/time/fps                      | 8.79e+03  |\n",
      "|    agent/time/iterations               | 1         |\n",
      "|    agent/time/time_elapsed             | 0         |\n",
      "|    agent/time/total_timesteps          | 8.19e+03  |\n",
      "|    agent/train/approx_kl               | 0.00501   |\n",
      "|    agent/train/clip_fraction           | 0.0251    |\n",
      "|    agent/train/clip_range              | 0.2       |\n",
      "|    agent/train/entropy_loss            | -1.41     |\n",
      "|    agent/train/explained_variance      | 0.394     |\n",
      "|    agent/train/learning_rate           | 0.0003    |\n",
      "|    agent/train/loss                    | 0.608     |\n",
      "|    agent/train/n_updates               | 40        |\n",
      "|    agent/train/policy_gradient_loss    | -0.00354  |\n",
      "|    agent/train/std                     | 0.982     |\n",
      "|    agent/train/value_loss              | 1.41      |\n",
      "|    preferences/entropy                 | 0.000622  |\n",
      "|    reward/epoch-0/train/accuracy       | 0.901     |\n",
      "|    reward/epoch-0/train/gt_reward_loss | 0.00963   |\n",
      "|    reward/epoch-0/train/loss           | 0.191     |\n",
      "|    reward/epoch-1/train/accuracy       | 0.901     |\n",
      "|    reward/epoch-1/train/gt_reward_loss | 0.0103    |\n",
      "|    reward/epoch-1/train/loss           | 0.175     |\n",
      "|    reward/epoch-2/train/accuracy       | 0.913     |\n",
      "|    reward/epoch-2/train/gt_reward_loss | 0.00957   |\n",
      "|    reward/epoch-2/train/loss           | 0.144     |\n",
      "| reward/                                |           |\n",
      "|    final/train/accuracy                | 0.913     |\n",
      "|    final/train/gt_reward_loss          | 0.00957   |\n",
      "|    final/train/loss                    | 0.144     |\n",
      "------------------------------------------------------\n",
      "Collecting 58 fragments (5800 transitions)\n",
      "Requested 5800 transitions but only 1600 in buffer. Sampling 4200 additional transitions.\n",
      "Creating fragment pairs\n",
      "Gathering preferences\n",
      "Dataset now contains 175 comparisons\n"
     ]
    },
    {
     "name": "stderr",
     "output_type": "stream",
     "text": [
      "Training reward model: 100%|██████████| 3/3 [00:01<00:00,  2.85it/s]"
     ]
    },
    {
     "name": "stdout",
     "output_type": "stream",
     "text": [
      "Training agent for 1000 timesteps\n"
     ]
    },
    {
     "name": "stderr",
     "output_type": "stream",
     "text": [
      "\n"
     ]
    },
    {
     "name": "stdout",
     "output_type": "stream",
     "text": [
      "------------------------------------------------------\n",
      "| raw/                                 |             |\n",
      "|    agent/rollout/ep_len_mean         | 200         |\n",
      "|    agent/rollout/ep_rew_mean         | -1.23e+03   |\n",
      "|    agent/rollout/ep_rew_wrapped_mean | 22.2        |\n",
      "|    agent/time/fps                    | 8824        |\n",
      "|    agent/time/iterations             | 1           |\n",
      "|    agent/time/time_elapsed           | 0           |\n",
      "|    agent/time/total_timesteps        | 10240       |\n",
      "|    agent/train/approx_kl             | 0.005006236 |\n",
      "|    agent/train/clip_fraction         | 0.0251      |\n",
      "|    agent/train/clip_range            | 0.2         |\n",
      "|    agent/train/entropy_loss          | -1.41       |\n",
      "|    agent/train/explained_variance    | 0.394       |\n",
      "|    agent/train/learning_rate         | 0.0003      |\n",
      "|    agent/train/loss                  | 0.608       |\n",
      "|    agent/train/n_updates             | 40          |\n",
      "|    agent/train/policy_gradient_loss  | -0.00354    |\n",
      "|    agent/train/std                   | 0.982       |\n",
      "|    agent/train/value_loss            | 1.41        |\n",
      "------------------------------------------------------\n",
      "------------------------------------------------------\n",
      "| mean/                                  |           |\n",
      "|    agent/rollout/ep_len_mean           | 200       |\n",
      "|    agent/rollout/ep_rew_mean           | -1.23e+03 |\n",
      "|    agent/rollout/ep_rew_wrapped_mean   | 22.2      |\n",
      "|    agent/time/fps                      | 8.82e+03  |\n",
      "|    agent/time/iterations               | 1         |\n",
      "|    agent/time/time_elapsed             | 0         |\n",
      "|    agent/time/total_timesteps          | 1.02e+04  |\n",
      "|    agent/train/approx_kl               | 0.00439   |\n",
      "|    agent/train/clip_fraction           | 0.026     |\n",
      "|    agent/train/clip_range              | 0.2       |\n",
      "|    agent/train/entropy_loss            | -1.41     |\n",
      "|    agent/train/explained_variance      | 0.389     |\n",
      "|    agent/train/learning_rate           | 0.0003    |\n",
      "|    agent/train/loss                    | 0.499     |\n",
      "|    agent/train/n_updates               | 50        |\n",
      "|    agent/train/policy_gradient_loss    | -0.00369  |\n",
      "|    agent/train/std                     | 1.01      |\n",
      "|    agent/train/value_loss              | 1.55      |\n",
      "|    preferences/entropy                 | 0.0231    |\n",
      "|    reward/epoch-0/train/accuracy       | 0.889     |\n",
      "|    reward/epoch-0/train/gt_reward_loss | 0.00983   |\n",
      "|    reward/epoch-0/train/loss           | 0.197     |\n",
      "|    reward/epoch-1/train/accuracy       | 0.9       |\n",
      "|    reward/epoch-1/train/gt_reward_loss | 0.00983   |\n",
      "|    reward/epoch-1/train/loss           | 0.155     |\n",
      "|    reward/epoch-2/train/accuracy       | 0.905     |\n",
      "|    reward/epoch-2/train/gt_reward_loss | 0.00913   |\n",
      "|    reward/epoch-2/train/loss           | 0.158     |\n",
      "| reward/                                |           |\n",
      "|    final/train/accuracy                | 0.905     |\n",
      "|    final/train/gt_reward_loss          | 0.00913   |\n",
      "|    final/train/loss                    | 0.158     |\n",
      "------------------------------------------------------\n",
      "Collecting 50 fragments (5000 transitions)\n",
      "Requested 5000 transitions but only 1600 in buffer. Sampling 3400 additional transitions.\n",
      "Creating fragment pairs\n",
      "Gathering preferences\n",
      "Dataset now contains 200 comparisons\n"
     ]
    },
    {
     "name": "stderr",
     "output_type": "stream",
     "text": [
      "Training reward model: 100%|██████████| 3/3 [00:01<00:00,  2.61it/s]"
     ]
    },
    {
     "name": "stdout",
     "output_type": "stream",
     "text": [
      "Training agent for 1000 timesteps\n"
     ]
    },
    {
     "name": "stderr",
     "output_type": "stream",
     "text": [
      "\n"
     ]
    },
    {
     "name": "stdout",
     "output_type": "stream",
     "text": [
      "-------------------------------------------------------\n",
      "| raw/                                 |              |\n",
      "|    agent/rollout/ep_len_mean         | 200          |\n",
      "|    agent/rollout/ep_rew_mean         | -1.22e+03    |\n",
      "|    agent/rollout/ep_rew_wrapped_mean | 22.3         |\n",
      "|    agent/time/fps                    | 8947         |\n",
      "|    agent/time/iterations             | 1            |\n",
      "|    agent/time/time_elapsed           | 0            |\n",
      "|    agent/time/total_timesteps        | 12288        |\n",
      "|    agent/train/approx_kl             | 0.0043940847 |\n",
      "|    agent/train/clip_fraction         | 0.026        |\n",
      "|    agent/train/clip_range            | 0.2          |\n",
      "|    agent/train/entropy_loss          | -1.41        |\n",
      "|    agent/train/explained_variance    | 0.389        |\n",
      "|    agent/train/learning_rate         | 0.0003       |\n",
      "|    agent/train/loss                  | 0.499        |\n",
      "|    agent/train/n_updates             | 50           |\n",
      "|    agent/train/policy_gradient_loss  | -0.00369     |\n",
      "|    agent/train/std                   | 1.01         |\n",
      "|    agent/train/value_loss            | 1.55         |\n",
      "-------------------------------------------------------\n",
      "------------------------------------------------------\n",
      "| mean/                                  |           |\n",
      "|    agent/rollout/ep_len_mean           | 200       |\n",
      "|    agent/rollout/ep_rew_mean           | -1.22e+03 |\n",
      "|    agent/rollout/ep_rew_wrapped_mean   | 22.3      |\n",
      "|    agent/time/fps                      | 8.95e+03  |\n",
      "|    agent/time/iterations               | 1         |\n",
      "|    agent/time/time_elapsed             | 0         |\n",
      "|    agent/time/total_timesteps          | 1.23e+04  |\n",
      "|    agent/train/approx_kl               | 0.00253   |\n",
      "|    agent/train/clip_fraction           | 0.00908   |\n",
      "|    agent/train/clip_range              | 0.2       |\n",
      "|    agent/train/entropy_loss            | -1.43     |\n",
      "|    agent/train/explained_variance      | 0.573     |\n",
      "|    agent/train/learning_rate           | 0.0003    |\n",
      "|    agent/train/loss                    | 0.57      |\n",
      "|    agent/train/n_updates               | 60        |\n",
      "|    agent/train/policy_gradient_loss    | -0.0013   |\n",
      "|    agent/train/std                     | 1.01      |\n",
      "|    agent/train/value_loss              | 1.37      |\n",
      "|    preferences/entropy                 | 0.00146   |\n",
      "|    reward/epoch-0/train/accuracy       | 0.897     |\n",
      "|    reward/epoch-0/train/gt_reward_loss | 0.00791   |\n",
      "|    reward/epoch-0/train/loss           | 0.152     |\n",
      "|    reward/epoch-1/train/accuracy       | 0.911     |\n",
      "|    reward/epoch-1/train/gt_reward_loss | 0.00785   |\n",
      "|    reward/epoch-1/train/loss           | 0.163     |\n",
      "|    reward/epoch-2/train/accuracy       | 0.915     |\n",
      "|    reward/epoch-2/train/gt_reward_loss | 0.00785   |\n",
      "|    reward/epoch-2/train/loss           | 0.147     |\n",
      "| reward/                                |           |\n",
      "|    final/train/accuracy                | 0.915     |\n",
      "|    final/train/gt_reward_loss          | 0.00785   |\n",
      "|    final/train/loss                    | 0.147     |\n",
      "------------------------------------------------------\n"
     ]
    },
    {
     "data": {
      "text/plain": [
       "{'reward_loss': 0.14733678102493286, 'reward_accuracy': 0.9151785714285714}"
      ]
     },
     "execution_count": 2,
     "metadata": {},
     "output_type": "execute_result"
    }
   ],
   "source": [
    "pref_comparisons.train(\n",
    "    total_timesteps=5_000,  # For good performance this should be 1_000_000\n",
    "    total_comparisons=200,  # For good performance this should be 5_000\n",
    ")"
   ]
  },
  {
   "cell_type": "markdown",
   "metadata": {},
   "source": [
    "After we trained the reward network using the preference comparisons algorithm, we can wrap our environment with that learned reward."
   ]
  },
  {
   "cell_type": "code",
   "execution_count": 3,
   "metadata": {},
   "outputs": [],
   "source": [
    "from imitation.rewards.reward_wrapper import RewardVecEnvWrapper\n",
    "\n",
    "\n",
    "learned_reward_venv = RewardVecEnvWrapper(venv, reward_net.predict)"
   ]
  },
  {
   "cell_type": "markdown",
   "metadata": {},
   "source": [
    "Now we can train an agent, that only sees those learned reward."
   ]
  },
  {
   "cell_type": "code",
   "execution_count": 4,
   "metadata": {},
   "outputs": [
    {
     "data": {
      "text/plain": [
       "<stable_baselines3.ppo.ppo.PPO at 0x7fcd40c85a90>"
      ]
     },
     "execution_count": 4,
     "metadata": {},
     "output_type": "execute_result"
    }
   ],
   "source": [
    "from stable_baselines3 import PPO\n",
    "from stable_baselines3.ppo import MlpPolicy\n",
    "\n",
    "learner = PPO(\n",
    "    policy=MlpPolicy,\n",
    "    env=learned_reward_venv,\n",
    "    seed=0,\n",
    "    batch_size=64,\n",
    "    ent_coef=0.0,\n",
    "    learning_rate=0.0003,\n",
    "    n_epochs=10,\n",
    "    n_steps=64,\n",
    ")\n",
    "learner.learn(1000)  # Note: set to 100000 to train a proficient expert"
   ]
  },
  {
   "cell_type": "markdown",
   "metadata": {},
   "source": [
    "Then we can evaluate it using the original reward."
   ]
  },
  {
   "cell_type": "code",
   "execution_count": 5,
   "metadata": {},
   "outputs": [
    {
     "name": "stdout",
     "output_type": "stream",
     "text": [
      "-1042.5357477999999\n"
     ]
    }
   ],
   "source": [
    "from stable_baselines3.common.evaluation import evaluate_policy\n",
    "\n",
    "reward, _ = evaluate_policy(learner.policy, venv, 10)\n",
    "print(reward)"
   ]
  },
  {
   "cell_type": "code",
   "execution_count": null,
   "metadata": {},
   "outputs": [],
   "source": []
  }
 ],
 "metadata": {
  "interpreter": {
   "hash": "439158cd89905785fcc749928062ade7bfccc3f087fab145e5671f895c635937"
  },
  "kernelspec": {
   "display_name": "Python 3 (ipykernel)",
   "language": "python",
   "name": "python3"
  },
  "language_info": {
   "codemirror_mode": {
    "name": "ipython",
    "version": 3
   },
   "file_extension": ".py",
   "mimetype": "text/x-python",
   "name": "python",
   "nbconvert_exporter": "python",
   "pygments_lexer": "ipython3",
   "version": "3.9.16"
  }
 },
 "nbformat": 4,
 "nbformat_minor": 2
}
